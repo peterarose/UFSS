{
 "cells": [
  {
   "cell_type": "markdown",
   "metadata": {},
   "source": [
    "# This notebook gives an example of how to use Diagram Generator as a stand-alone tool, and shows how to visualize the diagrams that are generated.  The algorithm is detailed in the manuscript available at arXiv:2008.05081"
   ]
  },
  {
   "cell_type": "markdown",
   "metadata": {},
   "source": [
    "## Note: in order to visualize Feynman Diagrams, we use the python package pyx, which relies upon $\\LaTeX$. \n",
    "\n",
    "## A $\\TeX$ distribution is NOT required to use the DiagramGenerator. In order to use this notebook, which focuses on visualization, you must have a $\\TeX$ distribution installed.  \n",
    "\n",
    "## To use this notebook with Google Colab, you must un-comment and run the following cell"
   ]
  },
  {
   "cell_type": "code",
   "execution_count": null,
   "metadata": {},
   "outputs": [],
   "source": [
    "#!apt-get install texlive-fonts-recommended\n",
    "#!apt-get install dvipng"
   ]
  },
  {
   "cell_type": "markdown",
   "metadata": {},
   "source": [
    "# Setting up the notebook"
   ]
  },
  {
   "cell_type": "code",
   "execution_count": null,
   "metadata": {},
   "outputs": [],
   "source": [
    "%matplotlib notebook"
   ]
  },
  {
   "cell_type": "code",
   "execution_count": null,
   "metadata": {},
   "outputs": [],
   "source": [
    "# (optional) uncomment the following line if you would like to install ufss on your system\n",
    "#!pip install ufss"
   ]
  },
  {
   "cell_type": "code",
   "execution_count": null,
   "metadata": {},
   "outputs": [],
   "source": [
    "import numpy as np\n",
    "import ufss\n",
    "import os"
   ]
  },
  {
   "cell_type": "markdown",
   "metadata": {},
   "source": [
    "# Using the Diagram Generator"
   ]
  },
  {
   "cell_type": "code",
   "execution_count": null,
   "metadata": {},
   "outputs": [],
   "source": [
    "# DiagramGenerator class, or DG for short\n",
    "DG = ufss.DiagramGenerator"
   ]
  },
  {
   "cell_type": "markdown",
   "metadata": {},
   "source": [
    "This notebook begins with an example of using the Diagram Generator to generate diagrams for optical nonlinear spectroscopy using the 2D photon echo as an example.  We then move on to the fluorescence-detected analogue of 2D photon echo as a counter-point.  Following that are further examples.  A list of all examples included in this notebook follows, in order of appearance:\n",
    "1. Tranditional 2D photon echo (2DPE)\n",
    "2. Fluorescence-detected 2DPE (or any action detection method)\n",
    "3. Transient Absoroption (TA)\n",
    "4. 5th-order correction to TA in the pump amplitude\n",
    "5. 5th-order correction to TA in the probe amplitude\n",
    "6. Exciton-exciton interaction 2D spectroscopy\n",
    "7. 2DPE for IR vibrational spectroscopy"
   ]
  },
  {
   "cell_type": "markdown",
   "metadata": {},
   "source": [
    "# 1. 2DPE"
   ]
  },
  {
   "cell_type": "markdown",
   "metadata": {},
   "source": [
    "## Generic case"
   ]
  },
  {
   "cell_type": "code",
   "execution_count": null,
   "metadata": {},
   "outputs": [],
   "source": [
    "# initialize the module\n",
    "tdpe = DG() # DG takes a single key-word argument, which has the default value detection_type = 'polarization'"
   ]
  },
  {
   "cell_type": "markdown",
   "metadata": {},
   "source": [
    "DiagramAutomation needs to know the phase-matching/-cycling condition and pulse intervals where pulses\n",
    "are non-zero.  See Sec. III of arXiv:2008.05081 (in particular Figure 2)"
   ]
  },
  {
   "cell_type": "code",
   "execution_count": null,
   "metadata": {},
   "outputs": [],
   "source": [
    "# 2DPE example of phase-matching\n",
    "tdpe.set_phase_discrimination([(0,1),(1,0),(1,0)])\n",
    "\n",
    "# Set the pulse durations for pulses 0,1,2 and the local oscillator\n",
    "d0 = 2\n",
    "d1 = 4\n",
    "d2 = 4\n",
    "dlo = 6\n",
    "\n",
    "# Set the pulse intervals\n",
    "t0 = np.array([-d0/2,d0/2])\n",
    "t1 = np.array([-d1/2,d1/2])\n",
    "t2 = np.array([-d2/2,d2/2])\n",
    "tlo = np.array([-dlo/2,dlo/2])\n",
    "all_pulse_intervals = [t0,t1,t2,tlo]\n",
    "\n",
    "# These pulse intervals are given to DG by setting DG's efield_times attribute\n",
    "tdpe.efield_times = all_pulse_intervals"
   ]
  },
  {
   "cell_type": "code",
   "execution_count": null,
   "metadata": {},
   "outputs": [],
   "source": [
    "# using a list of pulse arrival times, we can generate the diagrams that contribute for \n",
    "# that set of arrival times, by passing the arrival times to the method 'get_diagrams'\n",
    "# we choose arrival times that ensure that none of the pulses overlap:\n",
    "arrival_times = [0,100,200,200] \n",
    "# note the arrival time of the local oscillator is irrelevant, but needed by the code at this time\n",
    "# here we choose for the local oscillator to \"arrive\" simulltaneously with the 3rd pulse\n",
    "time_ordered_diagrams = tdpe.get_diagrams(arrival_times)\n",
    "time_ordered_diagrams"
   ]
  },
  {
   "cell_type": "code",
   "execution_count": null,
   "metadata": {},
   "outputs": [],
   "source": [
    "#display the diagrams for visual inspection (takes a few seconds to render)\n",
    "tdpe.display_diagrams(time_ordered_diagrams)"
   ]
  },
  {
   "cell_type": "code",
   "execution_count": null,
   "metadata": {
    "scrolled": true
   },
   "outputs": [],
   "source": [
    "# an example of arrival times where all three pulses overlap, given the pulse durations d0, d1 and d2\n",
    "arrival_times = [0,1,2,2] # gives the same answer as arrival_times = [0,0,0,0]\n",
    "all_diagrams = tdpe.get_diagrams(arrival_times)\n",
    "print('There are ',len(all_diagrams),' diagrams in total')"
   ]
  },
  {
   "cell_type": "code",
   "execution_count": null,
   "metadata": {},
   "outputs": [],
   "source": [
    "# Check in this folder after running this cell to see 16 individual diagrams saved as pdf files\n",
    "tdpe_diagrams_folder = 'TDPE_all_diagrams'\n",
    "os.makedirs(tdpe_diagrams_folder,exist_ok=True)\n",
    "\n",
    "# rendering and saving the diagrams takes a few seconds\n",
    "tdpe.save_diagrams(all_diagrams,folder_name=tdpe_diagrams_folder)"
   ]
  },
  {
   "cell_type": "markdown",
   "metadata": {},
   "source": [
    "To play with different cases where only some of the pulses overlap, uncomment and execute any of the following:"
   ]
  },
  {
   "cell_type": "code",
   "execution_count": null,
   "metadata": {},
   "outputs": [],
   "source": [
    "# In each of the following cases we have supplied a list of arrival times that cause only certain pulses to overlap\n",
    "\n",
    "#ab_overlap = tdpe.get_diagrams([0,1,6,6])\n",
    "#bc_overlap = tdpe.get_diagrams([0,4,6,6])\n",
    "#ab_bc_overlap = tdpe.get_diagrams([0,2,5,5])"
   ]
  },
  {
   "cell_type": "markdown",
   "metadata": {},
   "source": [
    "And uncomment the following for the case you want to see"
   ]
  },
  {
   "cell_type": "code",
   "execution_count": null,
   "metadata": {},
   "outputs": [],
   "source": [
    "#tdpe.display_diagrams(ab_overlap) #<--- change the argument of display diagrams to the case you have uncommented and executed"
   ]
  },
  {
   "cell_type": "markdown",
   "metadata": {},
   "source": [
    "## Time-ordered example for only one electronic excited state"
   ]
  },
  {
   "cell_type": "markdown",
   "metadata": {},
   "source": [
    "If the system under study has only one excited electronic state, then the excited-state absoroption process cannot take place.  This is captured by setting the attribute 'maximum_manifold' (default value $\\infty$) as follows (see Sec. III, item (4)(a) on pages 4-5 of arXiv:2008.05081 for a discussion about maximum and minimum manifold values)"
   ]
  },
  {
   "cell_type": "code",
   "execution_count": null,
   "metadata": {},
   "outputs": [],
   "source": [
    "tdpe.maximum_manifold = 1\n",
    "time_ordered_diagrams = tdpe.get_diagrams([0,100,200,200])\n",
    "tdpe.display_diagrams(time_ordered_diagrams)"
   ]
  },
  {
   "cell_type": "markdown",
   "metadata": {},
   "source": [
    "Note that even for the case of a single electronic excitation, if there is a significant electronic relaxation rate, 'maximum_manifold' should not be set to 1, but left at the default value $\\infty$"
   ]
  },
  {
   "cell_type": "markdown",
   "metadata": {},
   "source": [
    "# 2. Action-detected 2DPE"
   ]
  },
  {
   "cell_type": "code",
   "execution_count": null,
   "metadata": {},
   "outputs": [],
   "source": [
    "tdfs = DG(detection_type='fluorescence')\n",
    "\n",
    "tdfs.set_phase_discrimination([(0,1),(1,0),(1,0),(0,1)])"
   ]
  },
  {
   "cell_type": "code",
   "execution_count": null,
   "metadata": {},
   "outputs": [],
   "source": [
    "# set the pulse duration and interval of the 4th pulse (re-using pulse intervals for pulses 0-2)\n",
    "d3 = 5\n",
    "t3 = np.array([-d3/2,d3/2])\n",
    "all_pulse_intervals = [t0,t1,t2,t3]\n",
    "# pass pulse intervals to tdfs instance of DG\n",
    "tdfs.efield_times = all_pulse_intervals\n",
    "time_ordered_diagrams = tdfs.get_diagrams([0,100,200,300])\n",
    "tdfs.display_diagrams(time_ordered_diagrams)"
   ]
  },
  {
   "cell_type": "code",
   "execution_count": null,
   "metadata": {},
   "outputs": [],
   "source": [
    "# and all possibly relevant diagrams can be generated by setting the pulse delays so that all pulses overlap\n",
    "all_diagrams = tdfs.get_diagrams([0,1,2,2])\n",
    "print('There are ',len(all_diagrams),' diagrams in total')"
   ]
  },
  {
   "cell_type": "code",
   "execution_count": null,
   "metadata": {},
   "outputs": [],
   "source": [
    "# Check in this folder to see 16 individual diagrams\n",
    "tdfs_diagrams_folder = 'TDFS_all_diagrams'\n",
    "os.makedirs(tdfs_diagrams_folder,exist_ok=True)\n",
    "tdfs.save_diagrams(all_diagrams,folder_name=tdfs_diagrams_folder)"
   ]
  },
  {
   "cell_type": "markdown",
   "metadata": {},
   "source": [
    "To play with different cases where only some of the pulses overlap, uncomment and execute any of the following:"
   ]
  },
  {
   "cell_type": "code",
   "execution_count": null,
   "metadata": {},
   "outputs": [],
   "source": [
    "#ab_overlap = tdfs.get_diagrams([0,1,6,12])\n",
    "#bc_overlap = tdfs.get_diagrams([0,5,5,12])\n",
    "#cd_overlap = tdfs.get_diagrams([0,5,10,12])\n",
    "#ab_bc_overlap = tdfs.get_diagrams([0,3,6,12])\n",
    "#ab_cd_overlap = tdfs.get_diagrams([0,1,10,12])\n",
    "# and so on"
   ]
  },
  {
   "cell_type": "markdown",
   "metadata": {},
   "source": [
    "And uncomment the following for the case you want to see"
   ]
  },
  {
   "cell_type": "code",
   "execution_count": null,
   "metadata": {},
   "outputs": [],
   "source": [
    "#tdfs.display_diagrams(ab_overlap) #<--- change the argument of display diagrams to the case you have uncommented and executed"
   ]
  },
  {
   "cell_type": "markdown",
   "metadata": {},
   "source": [
    "# TA"
   ]
  },
  {
   "cell_type": "code",
   "execution_count": null,
   "metadata": {},
   "outputs": [],
   "source": [
    "ta = DG()\n",
    "ta.set_phase_discrimination([(1,1),(1,0)])\n",
    "pump_interval = t0\n",
    "probe_interval = t1\n",
    "ta.efield_times = [t0,t1]"
   ]
  },
  {
   "cell_type": "markdown",
   "metadata": {},
   "source": [
    "# TA 5th-order corrections"
   ]
  },
  {
   "cell_type": "markdown",
   "metadata": {},
   "source": [
    "## Higher order in pump amplitude"
   ]
  },
  {
   "cell_type": "code",
   "execution_count": null,
   "metadata": {},
   "outputs": [],
   "source": [
    "ta5order_pump = DG()\n",
    "ta5order_pump.set_phase_discrimination([(2,2),(1,0)])\n",
    "ta5order_pump.efield_times = [t0,t1]\n",
    "# Time-ordered diagrams\n",
    "ta5order_pump.get_diagrams([0,100,100])"
   ]
  },
  {
   "cell_type": "markdown",
   "metadata": {},
   "source": [
    "## Higher order in probe amplitude"
   ]
  },
  {
   "cell_type": "code",
   "execution_count": null,
   "metadata": {},
   "outputs": [],
   "source": [
    "ta5order_probe = DG()\n",
    "ta5order_probe.set_phase_discrimination([(1,1),(2,1)])\n",
    "ta5order_probe.efield_times = [t0,t1]\n",
    "ta5order_probe.get_diagrams([0,100,100])"
   ]
  },
  {
   "cell_type": "markdown",
   "metadata": {},
   "source": [
    "# EEI2D"
   ]
  },
  {
   "cell_type": "code",
   "execution_count": null,
   "metadata": {},
   "outputs": [],
   "source": [
    "eei2d = DG()\n",
    "eei2d.set_phase_discrimination([(0,2),(2,0),(1,0)])\n",
    "eei2d.efield_times = [t0,t1,t2,tlo]\n",
    "eei2d.get_diagrams([0,100,200,300])"
   ]
  },
  {
   "cell_type": "markdown",
   "metadata": {},
   "source": [
    "# 2DPE for IR vibrational spectroscopy"
   ]
  },
  {
   "cell_type": "markdown",
   "metadata": {},
   "source": [
    "For IR vibrational spectroscopy, the 'maximum_manifold' should be set to the default of $\\infty$.  In addition, the 'minimum_manifold' should be set to a negative number.  This is because, outside of zero temperature limit, the initial state of the system is a Boltzmann distribution of vibrational occupational states.  The $n=1$ vibrational state can be de-excited once, the $n=2$ vibrational state can be de-excited twice, and so on.  Depending on the ratio of $k_BT/\\hbar\\omega$, where $\\omega$ is the vibrational frequency, the initial distribution will contain appreciable weight in the first $n$ vibrational ladder states.  This information should be used in setting 'minimum_manifold' (see Sec. III, item (4)(a) on pages 4-5 of arXiv:2008.05081 for a discussion about maximum and minimum manifold values).  Here are two examples"
   ]
  },
  {
   "cell_type": "code",
   "execution_count": null,
   "metadata": {},
   "outputs": [],
   "source": [
    "tdpe.maximum_manifold = np.inf\n",
    "tdpe.minimum_manifold = -1\n",
    "tdpe.display_diagrams(tdpe.get_diagrams([0,100,200,200]))"
   ]
  },
  {
   "cell_type": "code",
   "execution_count": null,
   "metadata": {},
   "outputs": [],
   "source": [
    "# or \n",
    "tdpe.maximum_manifold = np.inf\n",
    "tdpe.minimum_manifold = -2\n",
    "tdpe.display_diagrams(tdpe.get_diagrams([0,100,200,200]))"
   ]
  },
  {
   "cell_type": "markdown",
   "metadata": {},
   "source": [
    "Going below minimum_manifold=-2 has no further effect on 2DPE, but one would need to consider smaller minimum_manifold values for higher-order spectroscopies.  To be safe, one can simply set minimum_manifold=-np.inf, though this may lead to unnecessary calculations, depending upon the initial thermal distribution of vibrational eigenstates"
   ]
  },
  {
   "cell_type": "code",
   "execution_count": null,
   "metadata": {},
   "outputs": [],
   "source": []
  }
 ],
 "metadata": {
  "kernelspec": {
   "display_name": "Python 3",
   "language": "python",
   "name": "python3"
  },
  "language_info": {
   "codemirror_mode": {
    "name": "ipython",
    "version": 3
   },
   "file_extension": ".py",
   "mimetype": "text/x-python",
   "name": "python",
   "nbconvert_exporter": "python",
   "pygments_lexer": "ipython3",
   "version": "3.7.3"
  }
 },
 "nbformat": 4,
 "nbformat_minor": 4
}
